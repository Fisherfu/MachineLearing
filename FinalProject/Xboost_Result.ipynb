{
 "cells": [
  {
   "cell_type": "code",
   "execution_count": 5,
   "id": "9515ec0c-29a2-48fa-8934-09c736d2a889",
   "metadata": {},
   "outputs": [
    {
     "name": "stderr",
     "output_type": "stream",
     "text": [
      "C:\\Users\\USER\\anaconda3\\Lib\\site-packages\\xgboost\\core.py:158: UserWarning: [22:17:54] WARNING: C:\\buildkite-agent\\builds\\buildkite-windows-cpu-autoscaling-group-i-0c55ff5f71b100e98-1\\xgboost\\xgboost-ci-windows\\src\\learner.cc:740: \n",
      "Parameters: { \"use_label_encoder\" } are not used.\n",
      "\n",
      "  warnings.warn(smsg, UserWarning)\n"
     ]
    },
    {
     "name": "stdout",
     "output_type": "stream",
     "text": [
      "Accuracy: 0.693\n",
      "Classification Report:\n",
      "               precision    recall  f1-score   support\n",
      "\n",
      "           0       0.72      0.42      0.53       202\n",
      "           1       0.71      0.18      0.29       119\n",
      "           2       0.44      0.23      0.30       171\n",
      "           3       0.37      0.22      0.28       263\n",
      "           4       0.74      0.95      0.83      1245\n",
      "\n",
      "    accuracy                           0.69      2000\n",
      "   macro avg       0.60      0.40      0.45      2000\n",
      "weighted avg       0.66      0.69      0.65      2000\n",
      "\n"
     ]
    }
   ],
   "source": [
    "import pandas as pd\n",
    "from sklearn.feature_extraction.text import TfidfVectorizer\n",
    "from sklearn.model_selection import train_test_split\n",
    "from xgboost import XGBClassifier\n",
    "from sklearn.metrics import classification_report, accuracy_score\n",
    "\n",
    "class XGBoostClassifier:\n",
    "    def __init__(self, max_features=5000, file_path=r'C:\\Users\\USER\\Desktop\\FinalProject\\Reviews.csv'):\n",
    "        self.max_features = max_features\n",
    "        self.file_path = file_path\n",
    "        self.vectorizer = TfidfVectorizer(max_features=self.max_features)\n",
    "        self.model = None\n",
    "\n",
    "    def preprocess_data(self):\n",
    "        # 加載數據並進行預處理\n",
    "        df = pd.read_csv(self.file_path)\n",
    "        df = df[['Text', 'Score']].dropna().head(10000)\n",
    "\n",
    "        # 將標籤從 1-5 映射到 0-4\n",
    "        texts, labels = df['Text'], df['Score'] - 1\n",
    "\n",
    "        # 清理文本數據\n",
    "        texts = texts.str.replace(r'[^a-zA-Z0-9\\s]', '', regex=True).str.strip()\n",
    "\n",
    "        # 使用 TF-IDF 提取特徵\n",
    "        X = self.vectorizer.fit_transform(texts).toarray()\n",
    "        return X, labels.values\n",
    "\n",
    "    def train(self, X_train, y_train, X_test, y_test):\n",
    "        # 使用 XGBoost 訓練\n",
    "        self.model = XGBClassifier(use_label_encoder=False, eval_metric='mlogloss')\n",
    "        self.model.fit(X_train, y_train)\n",
    "\n",
    "        # 預測\n",
    "        y_pred = self.model.predict(X_test)\n",
    "        print(\"Accuracy:\", accuracy_score(y_test, y_pred))\n",
    "        print(\"Classification Report:\\n\", classification_report(y_test, y_pred))\n",
    "\n",
    "    def predict(self, X):\n",
    "        return self.model.predict(X)\n",
    "\n",
    "if __name__ == \"__main__\":\n",
    "    classifier = XGBoostClassifier()\n",
    "    X, y = classifier.preprocess_data()\n",
    "\n",
    "    # Split data\n",
    "    X_train, X_test, y_train, y_test = train_test_split(\n",
    "        X, y, test_size=0.2, random_state=42\n",
    "    )\n",
    "\n",
    "    # Train and evaluate the model\n",
    "    classifier.train(X_train, y_train, X_test, y_test)\n"
   ]
  }
 ],
 "metadata": {
  "kernelspec": {
   "display_name": "Python 3 (ipykernel)",
   "language": "python",
   "name": "python3"
  },
  "language_info": {
   "codemirror_mode": {
    "name": "ipython",
    "version": 3
   },
   "file_extension": ".py",
   "mimetype": "text/x-python",
   "name": "python",
   "nbconvert_exporter": "python",
   "pygments_lexer": "ipython3",
   "version": "3.12.7"
  }
 },
 "nbformat": 4,
 "nbformat_minor": 5
}
