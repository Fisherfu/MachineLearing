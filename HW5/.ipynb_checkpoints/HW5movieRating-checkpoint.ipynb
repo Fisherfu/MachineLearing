{
 "cells": [
  {
   "cell_type": "code",
   "execution_count": 1,
   "id": "cb19111b-2d47-44cc-9380-2d62b6337cb4",
   "metadata": {},
   "outputs": [
    {
     "data": {
      "text/html": [
       "<div>\n",
       "<style scoped>\n",
       "    .dataframe tbody tr th:only-of-type {\n",
       "        vertical-align: middle;\n",
       "    }\n",
       "\n",
       "    .dataframe tbody tr th {\n",
       "        vertical-align: top;\n",
       "    }\n",
       "\n",
       "    .dataframe thead th {\n",
       "        text-align: right;\n",
       "    }\n",
       "</style>\n",
       "<table border=\"1\" class=\"dataframe\">\n",
       "  <thead>\n",
       "    <tr style=\"text-align: right;\">\n",
       "      <th></th>\n",
       "      <th>TrainDataID</th>\n",
       "      <th>UserID</th>\n",
       "      <th>MovieID</th>\n",
       "      <th>Rating</th>\n",
       "    </tr>\n",
       "  </thead>\n",
       "  <tbody>\n",
       "    <tr>\n",
       "      <th>0</th>\n",
       "      <td>1</td>\n",
       "      <td>796</td>\n",
       "      <td>1193</td>\n",
       "      <td>5</td>\n",
       "    </tr>\n",
       "    <tr>\n",
       "      <th>1</th>\n",
       "      <td>2</td>\n",
       "      <td>796</td>\n",
       "      <td>661</td>\n",
       "      <td>3</td>\n",
       "    </tr>\n",
       "    <tr>\n",
       "      <th>2</th>\n",
       "      <td>3</td>\n",
       "      <td>796</td>\n",
       "      <td>914</td>\n",
       "      <td>3</td>\n",
       "    </tr>\n",
       "    <tr>\n",
       "      <th>3</th>\n",
       "      <td>4</td>\n",
       "      <td>796</td>\n",
       "      <td>3408</td>\n",
       "      <td>4</td>\n",
       "    </tr>\n",
       "    <tr>\n",
       "      <th>4</th>\n",
       "      <td>5</td>\n",
       "      <td>796</td>\n",
       "      <td>2355</td>\n",
       "      <td>5</td>\n",
       "    </tr>\n",
       "  </tbody>\n",
       "</table>\n",
       "</div>"
      ],
      "text/plain": [
       "   TrainDataID  UserID  MovieID  Rating\n",
       "0            1     796     1193       5\n",
       "1            2     796      661       3\n",
       "2            3     796      914       3\n",
       "3            4     796     3408       4\n",
       "4            5     796     2355       5"
      ]
     },
     "execution_count": 1,
     "metadata": {},
     "output_type": "execute_result"
    }
   ],
   "source": [
    "import pandas as pd\n",
    "from sklearn.model_selection import train_test_split\n",
    "from sklearn.metrics import mean_absolute_error\n",
    "import numpy as np\n",
    "# Step 1: Load the dataset\n",
    "file_path = r'./movieRating.csv'\n",
    "data = pd.read_csv(file_path)\n",
    "\n",
    "data.head()"
   ]
  },
  {
   "cell_type": "code",
   "execution_count": 2,
   "id": "d516e2f6-1a10-490b-be7a-f496e3d2e628",
   "metadata": {},
   "outputs": [],
   "source": [
    "from keras.models import Model\n",
    "from keras.layers import Input, Embedding, Flatten, Dot, Add, Dense\n",
    "from keras.optimizers import Adam\n",
    "from keras.callbacks import EarlyStopping\n",
    "\n",
    "# Step 1: Prepare the data for Keras\n",
    "n_users = data['UserID'].nunique()\n",
    "n_movies = data['MovieID'].nunique()"
   ]
  },
  {
   "cell_type": "code",
   "execution_count": 3,
   "id": "ac67ccf3-c612-4f69-81db-d4c962333bc1",
   "metadata": {},
   "outputs": [
    {
     "data": {
      "text/plain": [
       "(719898, 179975)"
      ]
     },
     "execution_count": 3,
     "metadata": {},
     "output_type": "execute_result"
    }
   ],
   "source": [
    "# Step 2: Split the data into training (80%) and testing (20%) sets randomly\n",
    "train_data, test_data = train_test_split(data, test_size=0.2, random_state=42)\n",
    "\n",
    "# Confirm the size of each split\n",
    "len(train_data), len(test_data)"
   ]
  },
  {
   "cell_type": "code",
   "execution_count": 4,
   "id": "03987922-fb95-40e9-b543-cd853a5ffd64",
   "metadata": {},
   "outputs": [],
   "source": [
    "# Normalize UserID and MovieID to start from 0 for embedding layers\n",
    "user_id_map = {id_: i for i, id_ in enumerate(data['UserID'].unique())}\n",
    "movie_id_map = {id_: i for i, id_ in enumerate(data['MovieID'].unique())}\n",
    "\n",
    "\n",
    "data['UserID'] = data['UserID'].map(user_id_map)\n",
    "data['MovieID'] = data['MovieID'].map(movie_id_map)\n",
    "\n",
    "train_data['UserID'] = train_data['UserID'].map(user_id_map)\n",
    "train_data['MovieID'] = train_data['MovieID'].map(movie_id_map)\n",
    "test_data['UserID'] = test_data['UserID'].map(user_id_map)\n",
    "test_data['MovieID'] = test_data['MovieID'].map(movie_id_map)\n"
   ]
  },
  {
   "cell_type": "code",
   "execution_count": 5,
   "id": "3b113854-0f10-42f5-bd49-07bb2b0cae2a",
   "metadata": {},
   "outputs": [
    {
     "data": {
      "text/html": [
       "<div>\n",
       "<style scoped>\n",
       "    .dataframe tbody tr th:only-of-type {\n",
       "        vertical-align: middle;\n",
       "    }\n",
       "\n",
       "    .dataframe tbody tr th {\n",
       "        vertical-align: top;\n",
       "    }\n",
       "\n",
       "    .dataframe thead th {\n",
       "        text-align: right;\n",
       "    }\n",
       "</style>\n",
       "<table border=\"1\" class=\"dataframe\">\n",
       "  <thead>\n",
       "    <tr style=\"text-align: right;\">\n",
       "      <th></th>\n",
       "      <th>TrainDataID</th>\n",
       "      <th>UserID</th>\n",
       "      <th>MovieID</th>\n",
       "      <th>Rating</th>\n",
       "    </tr>\n",
       "  </thead>\n",
       "  <tbody>\n",
       "    <tr>\n",
       "      <th>805081</th>\n",
       "      <td>805082</td>\n",
       "      <td>5404</td>\n",
       "      <td>852</td>\n",
       "      <td>4</td>\n",
       "    </tr>\n",
       "    <tr>\n",
       "      <th>408898</th>\n",
       "      <td>408899</td>\n",
       "      <td>2795</td>\n",
       "      <td>727</td>\n",
       "      <td>2</td>\n",
       "    </tr>\n",
       "    <tr>\n",
       "      <th>234904</th>\n",
       "      <td>234905</td>\n",
       "      <td>1596</td>\n",
       "      <td>688</td>\n",
       "      <td>5</td>\n",
       "    </tr>\n",
       "    <tr>\n",
       "      <th>314846</th>\n",
       "      <td>314847</td>\n",
       "      <td>2055</td>\n",
       "      <td>1191</td>\n",
       "      <td>5</td>\n",
       "    </tr>\n",
       "    <tr>\n",
       "      <th>74881</th>\n",
       "      <td>74882</td>\n",
       "      <td>548</td>\n",
       "      <td>29</td>\n",
       "      <td>1</td>\n",
       "    </tr>\n",
       "    <tr>\n",
       "      <th>...</th>\n",
       "      <td>...</td>\n",
       "      <td>...</td>\n",
       "      <td>...</td>\n",
       "      <td>...</td>\n",
       "    </tr>\n",
       "    <tr>\n",
       "      <th>426494</th>\n",
       "      <td>426495</td>\n",
       "      <td>2908</td>\n",
       "      <td>341</td>\n",
       "      <td>5</td>\n",
       "    </tr>\n",
       "    <tr>\n",
       "      <th>343269</th>\n",
       "      <td>343270</td>\n",
       "      <td>2230</td>\n",
       "      <td>130</td>\n",
       "      <td>3</td>\n",
       "    </tr>\n",
       "    <tr>\n",
       "      <th>96268</th>\n",
       "      <td>96269</td>\n",
       "      <td>703</td>\n",
       "      <td>1283</td>\n",
       "      <td>3</td>\n",
       "    </tr>\n",
       "    <tr>\n",
       "      <th>412626</th>\n",
       "      <td>412627</td>\n",
       "      <td>2823</td>\n",
       "      <td>938</td>\n",
       "      <td>4</td>\n",
       "    </tr>\n",
       "    <tr>\n",
       "      <th>769846</th>\n",
       "      <td>769847</td>\n",
       "      <td>5138</td>\n",
       "      <td>48</td>\n",
       "      <td>5</td>\n",
       "    </tr>\n",
       "  </tbody>\n",
       "</table>\n",
       "<p>179975 rows × 4 columns</p>\n",
       "</div>"
      ],
      "text/plain": [
       "        TrainDataID  UserID  MovieID  Rating\n",
       "805081       805082    5404      852       4\n",
       "408898       408899    2795      727       2\n",
       "234904       234905    1596      688       5\n",
       "314846       314847    2055     1191       5\n",
       "74881         74882     548       29       1\n",
       "...             ...     ...      ...     ...\n",
       "426494       426495    2908      341       5\n",
       "343269       343270    2230      130       3\n",
       "96268         96269     703     1283       3\n",
       "412626       412627    2823      938       4\n",
       "769846       769847    5138       48       5\n",
       "\n",
       "[179975 rows x 4 columns]"
      ]
     },
     "execution_count": 5,
     "metadata": {},
     "output_type": "execute_result"
    }
   ],
   "source": [
    "test_data"
   ]
  },
  {
   "cell_type": "code",
   "execution_count": 6,
   "id": "f671f5c9-ceee-441c-abc2-60928ef8296f",
   "metadata": {},
   "outputs": [],
   "source": [
    "# Input data for the model\n",
    "train_users = train_data['UserID'].values\n",
    "train_movies = train_data['MovieID'].values\n",
    "train_ratings = train_data['Rating'].values\n",
    "\n",
    "test_users = test_data['UserID'].values\n",
    "test_movies = test_data['MovieID'].values\n",
    "test_ratings = test_data['Rating'].values"
   ]
  },
  {
   "cell_type": "code",
   "execution_count": 7,
   "id": "bee80e38-c0c3-4172-906b-aa4b84b305d1",
   "metadata": {},
   "outputs": [
    {
     "data": {
      "text/plain": [
       "array([  34, 2568, 4945, ...,  946, 4451,  876], dtype=int64)"
      ]
     },
     "execution_count": 7,
     "metadata": {},
     "output_type": "execute_result"
    }
   ],
   "source": [
    "train_users"
   ]
  },
  {
   "cell_type": "code",
   "execution_count": 8,
   "id": "abd1401e-1198-4d4c-855b-f03109fa388d",
   "metadata": {},
   "outputs": [],
   "source": [
    "# Step 2: Define the Keras Model\n",
    "embedding_size = 50\n",
    "\n",
    "# User embedding\n",
    "user_input = Input(shape=(1,))\n",
    "user_embedding = Embedding(input_dim=n_users, output_dim=embedding_size)(user_input)\n",
    "user_vector = Flatten()(user_embedding)"
   ]
  },
  {
   "cell_type": "code",
   "execution_count": 9,
   "id": "a78e0220-8bae-47b9-95d6-b6ec3569d9f4",
   "metadata": {},
   "outputs": [
    {
     "data": {
      "text/plain": [
       "<KerasTensor shape=(None, 50), dtype=float32, sparse=False, name=keras_tensor_2>"
      ]
     },
     "execution_count": 9,
     "metadata": {},
     "output_type": "execute_result"
    }
   ],
   "source": [
    "user_vector"
   ]
  },
  {
   "cell_type": "code",
   "execution_count": 10,
   "id": "7aae1996-abf4-434a-9d19-311d625c7cf8",
   "metadata": {},
   "outputs": [
    {
     "data": {
      "text/plain": [
       "<KerasTensor shape=(None, 50), dtype=float32, sparse=False, name=keras_tensor_5>"
      ]
     },
     "execution_count": 10,
     "metadata": {},
     "output_type": "execute_result"
    }
   ],
   "source": [
    "# Movie embedding\n",
    "movie_input = Input(shape=(1,))\n",
    "movie_embedding = Embedding(input_dim=n_movies, output_dim=embedding_size)(movie_input)\n",
    "movie_vector = Flatten()(movie_embedding)\n",
    "movie_vector"
   ]
  },
  {
   "cell_type": "code",
   "execution_count": 11,
   "id": "8d37db91-0669-4b85-9da7-942def758540",
   "metadata": {},
   "outputs": [
    {
     "data": {
      "text/plain": [
       "<KerasTensor shape=(None, 1), dtype=float32, sparse=False, name=keras_tensor_6>"
      ]
     },
     "execution_count": 11,
     "metadata": {},
     "output_type": "execute_result"
    }
   ],
   "source": [
    "# Dot product of user and movie embeddings\n",
    "dot_product = Dot(axes=1)([user_vector, movie_vector])\n",
    "dot_product"
   ]
  },
  {
   "cell_type": "code",
   "execution_count": 12,
   "id": "a0e11245-a147-46cb-b29c-c762af14314c",
   "metadata": {},
   "outputs": [
    {
     "data": {
      "text/plain": [
       "<KerasTensor shape=(None, 1), dtype=float32, sparse=False, name=keras_tensor_11>"
      ]
     },
     "execution_count": 12,
     "metadata": {},
     "output_type": "execute_result"
    }
   ],
   "source": [
    "# Add biases\n",
    "user_bias = Embedding(input_dim=n_users, output_dim=1)(user_input)\n",
    "movie_bias = Embedding(input_dim=n_movies, output_dim=1)(movie_input)\n",
    "user_bias = Flatten()(user_bias)\n",
    "movie_bias = Flatten()(movie_bias)\n",
    "rating_prediction = Add()([dot_product, user_bias, movie_bias])\n",
    "rating_prediction"
   ]
  },
  {
   "cell_type": "code",
   "execution_count": 13,
   "id": "cdee7f95-0918-4b74-b668-34cf6b81fae6",
   "metadata": {},
   "outputs": [
    {
     "data": {
      "text/plain": [
       "<Functional name=functional, built=True>"
      ]
     },
     "execution_count": 13,
     "metadata": {},
     "output_type": "execute_result"
    }
   ],
   "source": [
    "# Define the model\n",
    "model = Model(inputs=[user_input, movie_input], outputs=rating_prediction)\n",
    "model.compile(loss='mean_squared_error', optimizer=Adam(learning_rate=0.001))\n",
    "model"
   ]
  },
  {
   "cell_type": "code",
   "execution_count": 14,
   "id": "2ae5bfbe-7f15-433e-910c-a47dd0874f64",
   "metadata": {},
   "outputs": [
    {
     "name": "stdout",
     "output_type": "stream",
     "text": [
      "Epoch 1/20\n"
     ]
    },
    {
     "name": "stderr",
     "output_type": "stream",
     "text": [
      "C:\\Users\\USER\\anaconda3\\Lib\\site-packages\\keras\\src\\models\\functional.py:225: UserWarning: The structure of `inputs` doesn't match the expected structure: ['keras_tensor', 'keras_tensor_3']. Received: the structure of inputs=('*', '*')\n",
      "  warnings.warn(\n"
     ]
    },
    {
     "name": "stdout",
     "output_type": "stream",
     "text": [
      "\u001b[1m8999/8999\u001b[0m \u001b[32m━━━━━━━━━━━━━━━━━━━━\u001b[0m\u001b[37m\u001b[0m \u001b[1m28s\u001b[0m 3ms/step - loss: 7.0395 - val_loss: 0.9162\n",
      "Epoch 2/20\n",
      "\u001b[1m8999/8999\u001b[0m \u001b[32m━━━━━━━━━━━━━━━━━━━━\u001b[0m\u001b[37m\u001b[0m \u001b[1m27s\u001b[0m 3ms/step - loss: 0.8700 - val_loss: 0.8474\n",
      "Epoch 3/20\n",
      "\u001b[1m8999/8999\u001b[0m \u001b[32m━━━━━━━━━━━━━━━━━━━━\u001b[0m\u001b[37m\u001b[0m \u001b[1m27s\u001b[0m 3ms/step - loss: 0.7801 - val_loss: 0.8166\n",
      "Epoch 4/20\n",
      "\u001b[1m8999/8999\u001b[0m \u001b[32m━━━━━━━━━━━━━━━━━━━━\u001b[0m\u001b[37m\u001b[0m \u001b[1m26s\u001b[0m 3ms/step - loss: 0.7005 - val_loss: 0.8066\n",
      "Epoch 5/20\n",
      "\u001b[1m8999/8999\u001b[0m \u001b[32m━━━━━━━━━━━━━━━━━━━━\u001b[0m\u001b[37m\u001b[0m \u001b[1m27s\u001b[0m 3ms/step - loss: 0.6164 - val_loss: 0.8126\n",
      "Epoch 6/20\n",
      "\u001b[1m8999/8999\u001b[0m \u001b[32m━━━━━━━━━━━━━━━━━━━━\u001b[0m\u001b[37m\u001b[0m \u001b[1m27s\u001b[0m 3ms/step - loss: 0.5359 - val_loss: 0.8364\n",
      "Epoch 7/20\n",
      "\u001b[1m8999/8999\u001b[0m \u001b[32m━━━━━━━━━━━━━━━━━━━━\u001b[0m\u001b[37m\u001b[0m \u001b[1m28s\u001b[0m 3ms/step - loss: 0.4686 - val_loss: 0.8687\n"
     ]
    },
    {
     "data": {
      "text/plain": [
       "<keras.src.callbacks.history.History at 0x1a33a0d15e0>"
      ]
     },
     "execution_count": 14,
     "metadata": {},
     "output_type": "execute_result"
    }
   ],
   "source": [
    "# Step 3: Train the Model\n",
    "early_stopping = EarlyStopping(monitor='val_loss', patience=3, restore_best_weights=True)\n",
    "history = model.fit(\n",
    "    x=[train_users, train_movies],\n",
    "    y=train_ratings,\n",
    "    batch_size=64,\n",
    "    epochs=20,\n",
    "    validation_split=0.2,\n",
    "    callbacks=[early_stopping],\n",
    "    verbose=1\n",
    ")\n",
    "\n",
    "history"
   ]
  },
  {
   "cell_type": "code",
   "execution_count": 15,
   "id": "bbb2582e-eca9-4b1e-a8b2-d59138a7f19f",
   "metadata": {},
   "outputs": [
    {
     "name": "stdout",
     "output_type": "stream",
     "text": [
      "\u001b[1m5625/5625\u001b[0m \u001b[32m━━━━━━━━━━━━━━━━━━━━\u001b[0m\u001b[37m\u001b[0m \u001b[1m5s\u001b[0m 837us/step\n"
     ]
    },
    {
     "data": {
      "text/plain": [
       "0.7046368865690094"
      ]
     },
     "execution_count": 15,
     "metadata": {},
     "output_type": "execute_result"
    }
   ],
   "source": [
    "# Step 4: Predict and Calculate MAE\n",
    "predicted_ratings = model.predict([test_users, test_movies]).flatten()\n",
    "mae = mean_absolute_error(test_ratings, predicted_ratings)\n",
    "\n",
    "mae"
   ]
  },
  {
   "cell_type": "code",
   "execution_count": null,
   "id": "a7c8e9c3-263c-4388-b8d2-4ff34f4d131d",
   "metadata": {},
   "outputs": [],
   "source": []
  }
 ],
 "metadata": {
  "kernelspec": {
   "display_name": "Python 3 (ipykernel)",
   "language": "python",
   "name": "python3"
  },
  "language_info": {
   "codemirror_mode": {
    "name": "ipython",
    "version": 3
   },
   "file_extension": ".py",
   "mimetype": "text/x-python",
   "name": "python",
   "nbconvert_exporter": "python",
   "pygments_lexer": "ipython3",
   "version": "3.9.19"
  }
 },
 "nbformat": 4,
 "nbformat_minor": 5
}
