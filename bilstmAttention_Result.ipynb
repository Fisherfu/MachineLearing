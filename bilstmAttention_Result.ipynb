{
 "cells": [
  {
   "cell_type": "code",
   "execution_count": 1,
   "id": "0bf6d2e3-4416-4381-bee8-115e944d545b",
   "metadata": {},
   "outputs": [
    {
     "name": "stdout",
     "output_type": "stream",
     "text": [
      "WARNING:tensorflow:From C:\\Users\\USER\\anaconda3\\Lib\\site-packages\\tf_keras\\src\\losses.py:2976: The name tf.losses.sparse_softmax_cross_entropy is deprecated. Please use tf.compat.v1.losses.sparse_softmax_cross_entropy instead.\n",
      "\n",
      "WARNING:tensorflow:From C:\\Users\\USER\\anaconda3\\Lib\\site-packages\\tf_keras\\src\\backend.py:873: The name tf.get_default_graph is deprecated. Please use tf.compat.v1.get_default_graph instead.\n",
      "\n"
     ]
    },
    {
     "name": "stderr",
     "output_type": "stream",
     "text": [
      "Some weights of the PyTorch model were not used when initializing the TF 2.0 model TFBertModel: ['cls.predictions.transform.dense.weight', 'cls.predictions.transform.LayerNorm.bias', 'cls.predictions.transform.LayerNorm.weight', 'cls.seq_relationship.bias', 'cls.predictions.bias', 'cls.predictions.transform.dense.bias', 'cls.seq_relationship.weight']\n",
      "- This IS expected if you are initializing TFBertModel from a PyTorch model trained on another task or with another architecture (e.g. initializing a TFBertForSequenceClassification model from a BertForPreTraining model).\n",
      "- This IS NOT expected if you are initializing TFBertModel from a PyTorch model that you expect to be exactly identical (e.g. initializing a TFBertForSequenceClassification model from a BertForSequenceClassification model).\n",
      "All the weights of TFBertModel were initialized from the PyTorch model.\n",
      "If your task is similar to the task the model of the checkpoint was trained on, you can already use TFBertModel for predictions without further training.\n"
     ]
    },
    {
     "name": "stdout",
     "output_type": "stream",
     "text": [
      "WARNING:tensorflow:From C:\\Users\\USER\\anaconda3\\Lib\\site-packages\\keras\\src\\backend\\tensorflow\\core.py:204: The name tf.placeholder is deprecated. Please use tf.compat.v1.placeholder instead.\n",
      "\n",
      "Epoch 1/5\n"
     ]
    },
    {
     "name": "stderr",
     "output_type": "stream",
     "text": [
      "C:\\Users\\USER\\anaconda3\\Lib\\site-packages\\keras\\src\\models\\functional.py:225: UserWarning: The structure of `inputs` doesn't match the expected structure: ['input_ids', 'attention_mask']. Received: the structure of inputs=('*', '*')\n",
      "  warnings.warn(\n"
     ]
    },
    {
     "name": "stdout",
     "output_type": "stream",
     "text": [
      "\u001b[1m500/500\u001b[0m \u001b[32m━━━━━━━━━━━━━━━━━━━━\u001b[0m\u001b[37m\u001b[0m \u001b[1m1011s\u001b[0m 2s/step - accuracy: 0.5383 - loss: 1.3918 - val_accuracy: 0.6225 - val_loss: 1.0908 - learning_rate: 2.0000e-05\n",
      "Epoch 2/5\n",
      "\u001b[1m500/500\u001b[0m \u001b[32m━━━━━━━━━━━━━━━━━━━━\u001b[0m\u001b[37m\u001b[0m \u001b[1m1005s\u001b[0m 2s/step - accuracy: 0.6130 - loss: 1.1260 - val_accuracy: 0.6385 - val_loss: 0.9560 - learning_rate: 2.0000e-05\n",
      "Epoch 3/5\n",
      "\u001b[1m500/500\u001b[0m \u001b[32m━━━━━━━━━━━━━━━━━━━━\u001b[0m\u001b[37m\u001b[0m \u001b[1m991s\u001b[0m 2s/step - accuracy: 0.6335 - loss: 1.0086 - val_accuracy: 0.6790 - val_loss: 0.8911 - learning_rate: 2.0000e-05\n",
      "Epoch 4/5\n",
      "\u001b[1m500/500\u001b[0m \u001b[32m━━━━━━━━━━━━━━━━━━━━\u001b[0m\u001b[37m\u001b[0m \u001b[1m1034s\u001b[0m 2s/step - accuracy: 0.6595 - loss: 0.9364 - val_accuracy: 0.6810 - val_loss: 0.8698 - learning_rate: 2.0000e-05\n",
      "Epoch 5/5\n",
      "\u001b[1m500/500\u001b[0m \u001b[32m━━━━━━━━━━━━━━━━━━━━\u001b[0m\u001b[37m\u001b[0m \u001b[1m1035s\u001b[0m 2s/step - accuracy: 0.6740 - loss: 0.8981 - val_accuracy: 0.6825 - val_loss: 0.8507 - learning_rate: 2.0000e-05\n",
      "\u001b[1m63/63\u001b[0m \u001b[32m━━━━━━━━━━━━━━━━━━━━\u001b[0m\u001b[37m\u001b[0m \u001b[1m201s\u001b[0m 3s/step - accuracy: 0.7006 - loss: 0.8238\n",
      "Test Accuracy: 0.68\n"
     ]
    },
    {
     "ename": "AttributeError",
     "evalue": "'TransformerBiLSTMAttentionClassifier' object has no attribute 'plot_history'",
     "output_type": "error",
     "traceback": [
      "\u001b[1;31m---------------------------------------------------------------------------\u001b[0m",
      "\u001b[1;31mAttributeError\u001b[0m                            Traceback (most recent call last)",
      "Cell \u001b[1;32mIn[1], line 70\u001b[0m\n\u001b[0;32m     67\u001b[0m classifier\u001b[38;5;241m.\u001b[39mevaluate([X_test, mask_test], y_test)\n\u001b[0;32m     69\u001b[0m \u001b[38;5;66;03m# Plot training history\u001b[39;00m\n\u001b[1;32m---> 70\u001b[0m classifier\u001b[38;5;241m.\u001b[39mplot_history(history)\n\u001b[0;32m     72\u001b[0m \u001b[38;5;66;03m# Save predictions\u001b[39;00m\n\u001b[0;32m     73\u001b[0m predictions \u001b[38;5;241m=\u001b[39m classifier\u001b[38;5;241m.\u001b[39mpredict([X_test, mask_test])\n",
      "\u001b[1;31mAttributeError\u001b[0m: 'TransformerBiLSTMAttentionClassifier' object has no attribute 'plot_history'"
     ]
    }
   ],
   "source": [
    "import pandas as pd\n",
    "import tensorflow as tf\n",
    "from tensorflow.keras.models import Model\n",
    "from tensorflow.keras.layers import Layer, Input, Bidirectional, LSTM, Dense, Dropout, Attention\n",
    "from transformers import TFBertModel, BertTokenizer\n",
    "from sklearn.model_selection import train_test_split\n",
    "from tensorflow.keras.callbacks import ReduceLROnPlateau, EarlyStopping\n",
    "import matplotlib.pyplot as plt\n",
    "import transformerCNN as tc \n",
    "# 繼承 BertLayer\n",
    "class BertLayer(Layer):\n",
    "    def __init__(self, bert_model_name='bert-base-uncased', **kwargs):\n",
    "        super(BertLayer, self).__init__(**kwargs)\n",
    "        self.bert = TFBertModel.from_pretrained(bert_model_name)\n",
    "\n",
    "    def call(self, inputs):\n",
    "        input_ids, attention_mask = inputs\n",
    "        outputs = self.bert(input_ids=input_ids, attention_mask=attention_mask)\n",
    "        return outputs.last_hidden_state  # 返回最後一層的隱藏狀態\n",
    "\n",
    "class TransformerBiLSTMAttentionClassifier(tc.TransformerCNNClassifier):\n",
    "    def build_model(self):\n",
    "        # 定義輸入\n",
    "        input_ids = Input(shape=(self.max_len,), dtype=tf.int32, name=\"input_ids\")\n",
    "        attention_mask = Input(shape=(self.max_len,), dtype=tf.int32, name=\"attention_mask\")\n",
    "\n",
    "        # BERT 層\n",
    "        bert_outputs = BertLayer(bert_model_name='bert-base-uncased')([input_ids, attention_mask])\n",
    "\n",
    "        # BiLSTM 層\n",
    "        bilstm_layer = Bidirectional(LSTM(128, return_sequences=True))(bert_outputs)\n",
    "\n",
    "        # 注意力層\n",
    "        attention_output = Attention()([bilstm_layer, bilstm_layer])\n",
    "\n",
    "        # 池化層\n",
    "        pooled_output = tf.keras.layers.GlobalAveragePooling1D()(attention_output)\n",
    "        # 全連接層\n",
    "        x = Dense(128, activation=\"relu\")(pooled_output)\n",
    "        x = Dropout(0.5)(x)\n",
    "        output = Dense(self.num_classes+1, activation=\"softmax\")(x)\n",
    "\n",
    "        # 定義模型\n",
    "        self.model = Model(inputs=[input_ids, attention_mask], outputs=output)\n",
    "        self.model.compile(\n",
    "            optimizer=tf.keras.optimizers.Adam(learning_rate=self.learning_rate),\n",
    "            loss='sparse_categorical_crossentropy',\n",
    "            metrics=['accuracy']\n",
    "        )\n",
    "\n",
    "if __name__ == \"__main__\":\n",
    "    classifier = TransformerBiLSTMAttentionClassifier()\n",
    "    X, masks, y = classifier.preprocess_data()\n",
    "\n",
    "    # Split data\n",
    "    X_train, X_test, y_train, y_test, mask_train, mask_test = train_test_split(\n",
    "        X.numpy(), y, masks.numpy(), test_size=0.2, random_state=42\n",
    "    )\n",
    "\n",
    "    # Convert back to TensorFlow tensors\n",
    "    X_train, X_test = tf.convert_to_tensor(X_train), tf.convert_to_tensor(X_test)\n",
    "    mask_train, mask_test = tf.convert_to_tensor(mask_train), tf.convert_to_tensor(mask_test)\n",
    "\n",
    "    # Build, train, and evaluate the model\n",
    "    classifier.build_model()\n",
    "    history = classifier.train([X_train, mask_train], y_train, [X_test, mask_test], y_test)\n",
    "    classifier.evaluate([X_test, mask_test], y_test)\n",
    "\n",
    "    # Plot training history\n",
    "    classifier.plot_history(history)\n",
    "\n",
    "    # Save predictions\n",
    "    predictions = classifier.predict([X_test, mask_test])\n",
    "    pd.DataFrame({'Actual': y_test, 'Predicted': predictions}).to_csv('bilstm_attention_results.csv', index=False)\n",
    "    classifier.model.save('bilstm_attention_model.h5')\n"
   ]
  }
 ],
 "metadata": {
  "kernelspec": {
   "display_name": "Python 3 (ipykernel)",
   "language": "python",
   "name": "python3"
  },
  "language_info": {
   "codemirror_mode": {
    "name": "ipython",
    "version": 3
   },
   "file_extension": ".py",
   "mimetype": "text/x-python",
   "name": "python",
   "nbconvert_exporter": "python",
   "pygments_lexer": "ipython3",
   "version": "3.12.7"
  }
 },
 "nbformat": 4,
 "nbformat_minor": 5
}
